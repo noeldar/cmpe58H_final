{
  "nbformat": 4,
  "nbformat_minor": 0,
  "metadata": {
    "colab": {
      "name": "ExtendData.ipynb",
      "provenance": [],
      "toc_visible": true
    },
    "kernelspec": {
      "name": "python3",
      "display_name": "Python 3"
    },
    "language_info": {
      "name": "python"
    }
  },
  "cells": [
    {
      "cell_type": "code",
      "execution_count": null,
      "metadata": {
        "id": "_UWrQFXsBsPN"
      },
      "outputs": [],
      "source": [
        "# Using readlines()\n",
        "file1 = open('preds (1).txt', 'r')\n",
        "Lines = file1.readlines()\n",
        " \n",
        "\n",
        "preds = []\n",
        "# Strips the newline character\n",
        "for line in Lines:\n",
        "  preds.append(line.strip())"
      ]
    },
    {
      "cell_type": "code",
      "source": [
        "print(len(tweets))"
      ],
      "metadata": {
        "colab": {
          "base_uri": "https://localhost:8080/"
        },
        "id": "UI6JLwwF1FQd",
        "outputId": "58e588ef-86cf-46c5-8398-adae77ae527a"
      },
      "execution_count": null,
      "outputs": [
        {
          "output_type": "stream",
          "name": "stdout",
          "text": [
            "231711\n"
          ]
        }
      ]
    },
    {
      "cell_type": "code",
      "source": [
        "file1 = open('db_tweets_v2.txt', 'r')\n",
        "Lines = file1.readlines()\n",
        " \n",
        "\n",
        "tweets = []\n",
        "# Strips the newline character\n",
        "for line in Lines:\n",
        "  tweets.append(line.strip())"
      ],
      "metadata": {
        "id": "sA6iBm8bqLBn"
      },
      "execution_count": null,
      "outputs": []
    },
    {
      "cell_type": "code",
      "source": [
        "ls"
      ],
      "metadata": {
        "colab": {
          "base_uri": "https://localhost:8080/"
        },
        "id": "cIGaiXG1pz91",
        "outputId": "51fd6caa-999f-4ecc-c74c-bf64e9f536de"
      },
      "execution_count": null,
      "outputs": [
        {
          "output_type": "stream",
          "name": "stdout",
          "text": [
            "'db_annotated_tweets (1).csv'   democs.txt       repubs.txt\n",
            " db_tweets_v2.txt              'preds (1).txt'   \u001b[0m\u001b[01;34msample_data\u001b[0m/\n"
          ]
        }
      ]
    },
    {
      "cell_type": "code",
      "source": [
        "yz = []\n",
        "for i in range(3000):\n",
        "  yz.append(tweets[i])\n",
        "  if preds[i] == \"negative\":\n",
        "    yz.append(-1)\n",
        "  else:\n",
        "    yz.append(1)\n"
      ],
      "metadata": {
        "id": "dM36ctHvzOOt"
      },
      "execution_count": null,
      "outputs": []
    },
    {
      "cell_type": "code",
      "source": [
        "textfile = open(\"a_file_3000.txt\", \"w\")\n",
        "for element in yz:\n",
        "    textfile.write(str(element) + \"\\n\")\n",
        "textfile.close()"
      ],
      "metadata": {
        "id": "CbevgwTEzmoX"
      },
      "execution_count": null,
      "outputs": []
    },
    {
      "cell_type": "code",
      "source": [
        "!pip install emoji"
      ],
      "metadata": {
        "colab": {
          "base_uri": "https://localhost:8080/"
        },
        "id": "PCFNeHIAP2-X",
        "outputId": "9ce73eca-6323-4590-e4aa-5ba0214c17af"
      },
      "execution_count": null,
      "outputs": [
        {
          "output_type": "stream",
          "name": "stdout",
          "text": [
            "Collecting emoji\n",
            "  Downloading emoji-1.6.3.tar.gz (174 kB)\n",
            "\u001b[?25l\r\u001b[K     |█▉                              | 10 kB 21.7 MB/s eta 0:00:01\r\u001b[K     |███▊                            | 20 kB 27.9 MB/s eta 0:00:01\r\u001b[K     |█████▋                          | 30 kB 14.9 MB/s eta 0:00:01\r\u001b[K     |███████▌                        | 40 kB 10.5 MB/s eta 0:00:01\r\u001b[K     |█████████▍                      | 51 kB 7.5 MB/s eta 0:00:01\r\u001b[K     |███████████▎                    | 61 kB 7.5 MB/s eta 0:00:01\r\u001b[K     |█████████████▏                  | 71 kB 7.9 MB/s eta 0:00:01\r\u001b[K     |███████████████                 | 81 kB 8.5 MB/s eta 0:00:01\r\u001b[K     |█████████████████               | 92 kB 8.2 MB/s eta 0:00:01\r\u001b[K     |██████████████████▉             | 102 kB 7.1 MB/s eta 0:00:01\r\u001b[K     |████████████████████▊           | 112 kB 7.1 MB/s eta 0:00:01\r\u001b[K     |██████████████████████▋         | 122 kB 7.1 MB/s eta 0:00:01\r\u001b[K     |████████████████████████▌       | 133 kB 7.1 MB/s eta 0:00:01\r\u001b[K     |██████████████████████████▍     | 143 kB 7.1 MB/s eta 0:00:01\r\u001b[K     |████████████████████████████▏   | 153 kB 7.1 MB/s eta 0:00:01\r\u001b[K     |██████████████████████████████  | 163 kB 7.1 MB/s eta 0:00:01\r\u001b[K     |████████████████████████████████| 174 kB 7.1 MB/s eta 0:00:01\r\u001b[K     |████████████████████████████████| 174 kB 7.1 MB/s \n",
            "\u001b[?25hBuilding wheels for collected packages: emoji\n",
            "  Building wheel for emoji (setup.py) ... \u001b[?25l\u001b[?25hdone\n",
            "  Created wheel for emoji: filename=emoji-1.6.3-py3-none-any.whl size=170298 sha256=c9574935c5e35a8205c349d49afabec7c54aec7ad90685310b52bc48f3bf301a\n",
            "  Stored in directory: /root/.cache/pip/wheels/03/8b/d7/ad579fbef83c287215c0caab60fb0ae0f30c4d7ce5f580eade\n",
            "Successfully built emoji\n",
            "Installing collected packages: emoji\n",
            "Successfully installed emoji-1.6.3\n"
          ]
        }
      ]
    },
    {
      "cell_type": "code",
      "source": [
        "import pandas as pd\n",
        "from tqdm import tqdm\n",
        "import re\n",
        "import emoji\n",
        "import nltk\n",
        "tqdm.pandas()"
      ],
      "metadata": {
        "id": "QlN90h-vP3BV"
      },
      "execution_count": null,
      "outputs": []
    },
    {
      "cell_type": "code",
      "source": [
        "nltk.download('words')\n",
        "words = set(nltk.corpus.words.words())\n",
        "def cleaner(tweet):\n",
        "    tweet = re.sub(\"@[A-Za-z0-9]+\",\"\",tweet) #Remove @ sign\n",
        "    tweet = re.sub(r\"(?:\\@|http?\\://|https?\\://|www)\\S+\", \"\", tweet) #Remove http links\n",
        "    tweet = \" \".join(tweet.split())\n",
        "    tweet = ''.join(c for c in tweet if c not in emoji.UNICODE_EMOJI) #Remove Emojis\n",
        "    tweet = tweet.replace(\"#\", \"\").replace(\"_\", \" \") #Remove hashtag sign but keep the text\n",
        "    tweet = \" \".join(w for w in nltk.wordpunct_tokenize(tweet) \\\n",
        "         if w.lower() in words or not w.isalpha())\n",
        "    return tweet"
      ],
      "metadata": {
        "colab": {
          "base_uri": "https://localhost:8080/"
        },
        "id": "CkF8c7pJbXOE",
        "outputId": "5c3eeb41-267f-425a-986d-1ca134766bd2"
      },
      "execution_count": null,
      "outputs": [
        {
          "output_type": "stream",
          "name": "stdout",
          "text": [
            "[nltk_data] Downloading package words to /root/nltk_data...\n",
            "[nltk_data]   Unzipping corpora/words.zip.\n"
          ]
        }
      ]
    },
    {
      "cell_type": "code",
      "source": [
        "ents = pd.read_csv('entities.csv', index_col=False)\n",
        "ents = ents.fillna('')"
      ],
      "metadata": {
        "id": "Asrhs2jYP3EZ"
      },
      "execution_count": null,
      "outputs": []
    },
    {
      "cell_type": "code",
      "source": [
        "tweets = pd.read_csv('db_annotated_tweets.csv', index_col=False)\n",
        "tweets = tweets.fillna('')"
      ],
      "metadata": {
        "colab": {
          "base_uri": "https://localhost:8080/"
        },
        "id": "KLXVXdovbdBX",
        "outputId": "9469abb8-9146-420a-b190-60ee5a6cd584"
      },
      "execution_count": null,
      "outputs": [
        {
          "output_type": "stream",
          "name": "stderr",
          "text": [
            "/usr/local/lib/python3.7/dist-packages/IPython/core/interactiveshell.py:2718: DtypeWarning: Columns (0,1,6) have mixed types.Specify dtype option on import or set low_memory=False.\n",
            "  interactivity=interactivity, compiler=compiler, result=result)\n"
          ]
        }
      ]
    },
    {
      "cell_type": "code",
      "source": [
        "tweets['TweetText'] = tweets['TweetText'].map(lambda x: cleaner(x))\n",
        "tweets['UserName'] = tweets['UserName'].apply(lambda x: x.replace('@', '').replace(' ', ''))"
      ],
      "metadata": {
        "id": "6prrOFjhbt5l"
      },
      "execution_count": null,
      "outputs": []
    },
    {
      "cell_type": "code",
      "source": [
        "import string\n",
        "clean_ents = []\n",
        "\n",
        "for ee in ents[\"interest\"].values:\n",
        "  ee = ee.lower()\n",
        "  ee = ee.translate(str.maketrans('', '', string.punctuation))\n",
        "  clean_ents.append(ee)"
      ],
      "metadata": {
        "id": "8J0kMcYwP3HW"
      },
      "execution_count": null,
      "outputs": []
    },
    {
      "cell_type": "code",
      "source": [
        "file1 = open('repubs.txt', 'r')\n",
        "Lines = file1.readlines()\n",
        " \n",
        "\n",
        "repubs = []\n",
        "ori_repubs = []\n",
        "# Strips the newline character\n",
        "for line in Lines:\n",
        "  ori_repubs.append(line.strip())\n",
        "  rr = line.strip().lower()\n",
        "  rr = rr.replace(\"http://dbpedia.org/resource/\",\"\")\n",
        "  rr = rr.replace(\"_\",\" \")\n",
        "  rr = rr.translate(str.maketrans('', '', string.punctuation))\n",
        "  repubs.append(rr)\n",
        "\n",
        "ind_dict_repubs = dict((k,i) for i,k in enumerate(repubs))"
      ],
      "metadata": {
        "id": "KoYtr9ZxP3KY"
      },
      "execution_count": null,
      "outputs": []
    },
    {
      "cell_type": "code",
      "source": [
        "file2 = open('democs.txt', 'r')\n",
        "Lines2 = file2.readlines()\n",
        " \n",
        "\n",
        "democs = []\n",
        "ori_democs = []\n",
        "# Strips the newline character\n",
        "for line in Lines2:\n",
        "  ori_democs.append(line.strip())\n",
        "  rr = line.strip().lower()\n",
        "  rr = rr.replace(\"http://dbpedia.org/resource/\",\"\")\n",
        "  rr = rr.replace(\"_\",\" \")\n",
        "  rr = rr.translate(str.maketrans('', '', string.punctuation))\n",
        "  democs.append(rr)\n",
        "\n",
        "ind_dict_democs = dict((k,i) for i,k in enumerate(democs))"
      ],
      "metadata": {
        "id": "Um74XdDBP3NS"
      },
      "execution_count": null,
      "outputs": []
    },
    {
      "cell_type": "code",
      "source": [
        "print(len(repubs))\n",
        "new_repubs = list(set(repubs) - set(clean_ents))\n",
        "print(len(new_repubs))"
      ],
      "metadata": {
        "colab": {
          "base_uri": "https://localhost:8080/"
        },
        "id": "I_z2BQ5QP3P8",
        "outputId": "89d0f983-c5de-46f4-e1e7-89d2a2e2da3f"
      },
      "execution_count": null,
      "outputs": [
        {
          "output_type": "stream",
          "name": "stdout",
          "text": [
            "29504\n",
            "29046\n"
          ]
        }
      ]
    },
    {
      "cell_type": "code",
      "source": [
        "print(len(democs))\n",
        "new_democs = list(set(democs) - set(clean_ents))\n",
        "print(len(new_democs))"
      ],
      "metadata": {
        "colab": {
          "base_uri": "https://localhost:8080/"
        },
        "id": "nFdIyMtIP3S-",
        "outputId": "6290dafb-30e0-4785-f645-b9e7babe4415"
      },
      "execution_count": null,
      "outputs": [
        {
          "output_type": "stream",
          "name": "stdout",
          "text": [
            "28535\n",
            "28167\n"
          ]
        }
      ]
    },
    {
      "cell_type": "code",
      "source": [
        "repubs_filter = [ ori_repubs[ind_dict_repubs[x]] for x in new_repubs ]"
      ],
      "metadata": {
        "id": "cCxiSGtLpbcx"
      },
      "execution_count": null,
      "outputs": []
    },
    {
      "cell_type": "code",
      "source": [
        "democs_filter = [ ori_democs[ind_dict_democs[x]] for x in new_democs ]"
      ],
      "metadata": {
        "id": "TfjeL5ZLpbfd"
      },
      "execution_count": null,
      "outputs": []
    },
    {
      "cell_type": "code",
      "source": [
        "import pickle\n",
        "with open(r\"argmax_pred.pickle\", \"rb\") as input_file:\n",
        "  preds = pickle.load(input_file)\n",
        "\n",
        "print(len(preds))"
      ],
      "metadata": {
        "colab": {
          "base_uri": "https://localhost:8080/"
        },
        "id": "3iTf1ZkkpbqW",
        "outputId": "b47fb9bc-9bc5-4079-9404-59f5455b6341"
      },
      "execution_count": null,
      "outputs": [
        {
          "output_type": "stream",
          "name": "stdout",
          "text": [
            "3000\n"
          ]
        }
      ]
    },
    {
      "cell_type": "code",
      "source": [
        "file3 = open('a_file_3000.txt', 'r')\n",
        "Lines3 = file3.readlines()\n",
        "yz = []\n",
        "# Strips the newline character\n",
        "for line in Lines3:\n",
        "  yz.append(line.strip())\n",
        "\n",
        "yz_new = list(filter(lambda a: a != \"1\", yz))\n",
        "yz_last = list(filter(lambda a: a != \"-1\", yz_new))"
      ],
      "metadata": {
        "id": "MaGDouAIP3V6"
      },
      "execution_count": null,
      "outputs": []
    },
    {
      "cell_type": "code",
      "source": [
        "len(yz_last)"
      ],
      "metadata": {
        "colab": {
          "base_uri": "https://localhost:8080/"
        },
        "id": "UY-e3JFKjWap",
        "outputId": "3f76ef9a-69b1-4260-8906-f93e2e4b81fe"
      },
      "execution_count": null,
      "outputs": [
        {
          "output_type": "execute_result",
          "data": {
            "text/plain": [
              "3000"
            ]
          },
          "metadata": {},
          "execution_count": 22
        }
      ]
    },
    {
      "cell_type": "code",
      "source": [
        "tweets = tweets[tweets['TweetText'].isin(yz_last)]\n",
        "tweets.shape"
      ],
      "metadata": {
        "colab": {
          "base_uri": "https://localhost:8080/"
        },
        "id": "9d-JA-XxP3Ys",
        "outputId": "6dfdce2d-10d9-4708-9f47-c80b8e72b02c"
      },
      "execution_count": null,
      "outputs": [
        {
          "output_type": "execute_result",
          "data": {
            "text/plain": [
              "(462, 14)"
            ]
          },
          "metadata": {},
          "execution_count": 23
        }
      ]
    },
    {
      "cell_type": "code",
      "source": [
        "tweets.head()"
      ],
      "metadata": {
        "colab": {
          "base_uri": "https://localhost:8080/",
          "height": 600
        },
        "id": "aXX6VSsxP3b8",
        "outputId": "2bea292b-5fa3-4520-a609-9e56f196abc4"
      },
      "execution_count": null,
      "outputs": [
        {
          "output_type": "execute_result",
          "data": {
            "text/html": [
              "\n",
              "  <div id=\"df-1f13d9d8-e5b5-4835-80eb-44babfd682a3\">\n",
              "    <div class=\"colab-df-container\">\n",
              "      <div>\n",
              "<style scoped>\n",
              "    .dataframe tbody tr th:only-of-type {\n",
              "        vertical-align: middle;\n",
              "    }\n",
              "\n",
              "    .dataframe tbody tr th {\n",
              "        vertical-align: top;\n",
              "    }\n",
              "\n",
              "    .dataframe thead th {\n",
              "        text-align: right;\n",
              "    }\n",
              "</style>\n",
              "<table border=\"1\" class=\"dataframe\">\n",
              "  <thead>\n",
              "    <tr style=\"text-align: right;\">\n",
              "      <th></th>\n",
              "      <th>Unnamed: 0</th>\n",
              "      <th>index</th>\n",
              "      <th>Unnamed: 0.1</th>\n",
              "      <th>UserName</th>\n",
              "      <th>TweetText</th>\n",
              "      <th>Timestamp</th>\n",
              "      <th>Tweet URL</th>\n",
              "      <th>collector</th>\n",
              "      <th>TweetID</th>\n",
              "      <th>Entities</th>\n",
              "      <th>UserID</th>\n",
              "      <th>retweet</th>\n",
              "      <th>mentions</th>\n",
              "      <th>db_ents</th>\n",
              "    </tr>\n",
              "  </thead>\n",
              "  <tbody>\n",
              "    <tr>\n",
              "      <th>2</th>\n",
              "      <td>2</td>\n",
              "      <td>2</td>\n",
              "      <td>2</td>\n",
              "      <td>dmrose15</td>\n",
              "      <td>to many are offended if you simply say yes or ...</td>\n",
              "      <td>2021-10-25T23:58:11.000Z</td>\n",
              "      <td>https://twitter.com/dmrose15/status/1452786599...</td>\n",
              "      <td>scraper</td>\n",
              "      <td>1.45279e+18</td>\n",
              "      <td></td>\n",
              "      <td></td>\n",
              "      <td></td>\n",
              "      <td>_p_rittenhouse,</td>\n",
              "      <td>\"evening\",\"TIME\",\"\",\"\",\"\"</td>\n",
              "    </tr>\n",
              "    <tr>\n",
              "      <th>18</th>\n",
              "      <td>18</td>\n",
              "      <td>18</td>\n",
              "      <td>18</td>\n",
              "      <td>_richard_ong_</td>\n",
              "      <td>Trump . is truly up . How are going to parade ...</td>\n",
              "      <td>2021-10-25T23:25:31.000Z</td>\n",
              "      <td>https://twitter.com/_richard_ong_/status/14527...</td>\n",
              "      <td>scraper</td>\n",
              "      <td>1.45278e+18</td>\n",
              "      <td></td>\n",
              "      <td></td>\n",
              "      <td></td>\n",
              "      <td></td>\n",
              "      <td>\"Donald Trump Jr.\",\"DBPEDIA_ENT\",\"http://dbped...</td>\n",
              "    </tr>\n",
              "    <tr>\n",
              "      <th>19</th>\n",
              "      <td>19</td>\n",
              "      <td>19</td>\n",
              "      <td>19</td>\n",
              "      <td>blizthehusky</td>\n",
              "      <td>hey why ' t Kyle in jail ? insider . Trump . i...</td>\n",
              "      <td>2021-10-25T23:25:29.000Z</td>\n",
              "      <td>https://twitter.com/blizthehusky/status/145277...</td>\n",
              "      <td>scraper</td>\n",
              "      <td>1.45278e+18</td>\n",
              "      <td></td>\n",
              "      <td></td>\n",
              "      <td></td>\n",
              "      <td>GOP,</td>\n",
              "      <td>\"Kyle\",\"DBPEDIA_ENT\",\"http://dbpedia.org/resou...</td>\n",
              "    </tr>\n",
              "    <tr>\n",
              "      <th>21</th>\n",
              "      <td>21</td>\n",
              "      <td>21</td>\n",
              "      <td>21</td>\n",
              "      <td>TaylorKirkham</td>\n",
              "      <td>to and 3 \" fired \"... do you want to clarify o...</td>\n",
              "      <td>2021-10-25T23:23:42.000Z</td>\n",
              "      <td>https://twitter.com/TaylorKirkham/status/14527...</td>\n",
              "      <td>scraper</td>\n",
              "      <td>1.45278e+18</td>\n",
              "      <td></td>\n",
              "      <td></td>\n",
              "      <td></td>\n",
              "      <td>eriksgrossman26,;steverasch,</td>\n",
              "      <td>\"shots fired\",\"DBPEDIA_ENT\",\"http://dbpedia.or...</td>\n",
              "    </tr>\n",
              "    <tr>\n",
              "      <th>27</th>\n",
              "      <td>27</td>\n",
              "      <td>27</td>\n",
              "      <td>27</td>\n",
              "      <td>GrayscaleLyric</td>\n",
              "      <td>in the middle of broke</td>\n",
              "      <td>2021-10-25T23:19:04.000Z</td>\n",
              "      <td>https://twitter.com/GrayscaleLyric/status/1452...</td>\n",
              "      <td>scraper</td>\n",
              "      <td>1.45278e+18</td>\n",
              "      <td></td>\n",
              "      <td></td>\n",
              "      <td></td>\n",
              "      <td></td>\n",
              "      <td></td>\n",
              "    </tr>\n",
              "  </tbody>\n",
              "</table>\n",
              "</div>\n",
              "      <button class=\"colab-df-convert\" onclick=\"convertToInteractive('df-1f13d9d8-e5b5-4835-80eb-44babfd682a3')\"\n",
              "              title=\"Convert this dataframe to an interactive table.\"\n",
              "              style=\"display:none;\">\n",
              "        \n",
              "  <svg xmlns=\"http://www.w3.org/2000/svg\" height=\"24px\"viewBox=\"0 0 24 24\"\n",
              "       width=\"24px\">\n",
              "    <path d=\"M0 0h24v24H0V0z\" fill=\"none\"/>\n",
              "    <path d=\"M18.56 5.44l.94 2.06.94-2.06 2.06-.94-2.06-.94-.94-2.06-.94 2.06-2.06.94zm-11 1L8.5 8.5l.94-2.06 2.06-.94-2.06-.94L8.5 2.5l-.94 2.06-2.06.94zm10 10l.94 2.06.94-2.06 2.06-.94-2.06-.94-.94-2.06-.94 2.06-2.06.94z\"/><path d=\"M17.41 7.96l-1.37-1.37c-.4-.4-.92-.59-1.43-.59-.52 0-1.04.2-1.43.59L10.3 9.45l-7.72 7.72c-.78.78-.78 2.05 0 2.83L4 21.41c.39.39.9.59 1.41.59.51 0 1.02-.2 1.41-.59l7.78-7.78 2.81-2.81c.8-.78.8-2.07 0-2.86zM5.41 20L4 18.59l7.72-7.72 1.47 1.35L5.41 20z\"/>\n",
              "  </svg>\n",
              "      </button>\n",
              "      \n",
              "  <style>\n",
              "    .colab-df-container {\n",
              "      display:flex;\n",
              "      flex-wrap:wrap;\n",
              "      gap: 12px;\n",
              "    }\n",
              "\n",
              "    .colab-df-convert {\n",
              "      background-color: #E8F0FE;\n",
              "      border: none;\n",
              "      border-radius: 50%;\n",
              "      cursor: pointer;\n",
              "      display: none;\n",
              "      fill: #1967D2;\n",
              "      height: 32px;\n",
              "      padding: 0 0 0 0;\n",
              "      width: 32px;\n",
              "    }\n",
              "\n",
              "    .colab-df-convert:hover {\n",
              "      background-color: #E2EBFA;\n",
              "      box-shadow: 0px 1px 2px rgba(60, 64, 67, 0.3), 0px 1px 3px 1px rgba(60, 64, 67, 0.15);\n",
              "      fill: #174EA6;\n",
              "    }\n",
              "\n",
              "    [theme=dark] .colab-df-convert {\n",
              "      background-color: #3B4455;\n",
              "      fill: #D2E3FC;\n",
              "    }\n",
              "\n",
              "    [theme=dark] .colab-df-convert:hover {\n",
              "      background-color: #434B5C;\n",
              "      box-shadow: 0px 1px 3px 1px rgba(0, 0, 0, 0.15);\n",
              "      filter: drop-shadow(0px 1px 2px rgba(0, 0, 0, 0.3));\n",
              "      fill: #FFFFFF;\n",
              "    }\n",
              "  </style>\n",
              "\n",
              "      <script>\n",
              "        const buttonEl =\n",
              "          document.querySelector('#df-1f13d9d8-e5b5-4835-80eb-44babfd682a3 button.colab-df-convert');\n",
              "        buttonEl.style.display =\n",
              "          google.colab.kernel.accessAllowed ? 'block' : 'none';\n",
              "\n",
              "        async function convertToInteractive(key) {\n",
              "          const element = document.querySelector('#df-1f13d9d8-e5b5-4835-80eb-44babfd682a3');\n",
              "          const dataTable =\n",
              "            await google.colab.kernel.invokeFunction('convertToInteractive',\n",
              "                                                     [key], {});\n",
              "          if (!dataTable) return;\n",
              "\n",
              "          const docLinkHtml = 'Like what you see? Visit the ' +\n",
              "            '<a target=\"_blank\" href=https://colab.research.google.com/notebooks/data_table.ipynb>data table notebook</a>'\n",
              "            + ' to learn more about interactive tables.';\n",
              "          element.innerHTML = '';\n",
              "          dataTable['output_type'] = 'display_data';\n",
              "          await google.colab.output.renderOutput(dataTable, element);\n",
              "          const docLink = document.createElement('div');\n",
              "          docLink.innerHTML = docLinkHtml;\n",
              "          element.appendChild(docLink);\n",
              "        }\n",
              "      </script>\n",
              "    </div>\n",
              "  </div>\n",
              "  "
            ],
            "text/plain": [
              "   Unnamed: 0  ...                                            db_ents\n",
              "2           2  ...                          \"evening\",\"TIME\",\"\",\"\",\"\"\n",
              "18         18  ...  \"Donald Trump Jr.\",\"DBPEDIA_ENT\",\"http://dbped...\n",
              "19         19  ...  \"Kyle\",\"DBPEDIA_ENT\",\"http://dbpedia.org/resou...\n",
              "21         21  ...  \"shots fired\",\"DBPEDIA_ENT\",\"http://dbpedia.or...\n",
              "27         27  ...                                                   \n",
              "\n",
              "[5 rows x 14 columns]"
            ]
          },
          "metadata": {},
          "execution_count": 24
        }
      ]
    },
    {
      "cell_type": "code",
      "source": [
        "import random\n",
        "ent_ext = []\n",
        "j = 0\n",
        "for tweet in tweets['TweetText'].values:\n",
        "  tmp = []\n",
        "  index = yz_last.index(tweet)\n",
        "  if preds[index] == 2:\n",
        "    sampled_list = random.sample(repubs_filter, 2)\n",
        "  else:\n",
        "    sampled_list = random.sample(democs_filter, 2)\n",
        "\n",
        "  tmp.append(tweets['UserName'].values[j])\n",
        "  tmp.append(\"Person\")\n",
        "  tmp.append(sampled_list[0])\n",
        "  ent_ext.append(tmp)\n",
        "  tmp = []\n",
        "  tmp.append(tweets['UserName'].values[j])\n",
        "  tmp.append(\"Person\")\n",
        "  tmp.append(sampled_list[1])\n",
        "  ent_ext.append(tmp)\n",
        "  j = j+1\n",
        "\n",
        "new_ents = pd.DataFrame(ent_ext, columns=[\"user\",\"interest type\", \"interest\"])\n"
      ],
      "metadata": {
        "id": "qiYiXof2P3e-"
      },
      "execution_count": null,
      "outputs": []
    },
    {
      "cell_type": "code",
      "source": [
        "new_ents.head(5)"
      ],
      "metadata": {
        "colab": {
          "base_uri": "https://localhost:8080/",
          "height": 206
        },
        "id": "e6Y5_zCVP3iQ",
        "outputId": "33b7aef8-69fa-4a40-fc7f-38339ab96882"
      },
      "execution_count": null,
      "outputs": [
        {
          "output_type": "execute_result",
          "data": {
            "text/html": [
              "\n",
              "  <div id=\"df-396d2ca2-3715-453a-bdde-d584d2773d93\">\n",
              "    <div class=\"colab-df-container\">\n",
              "      <div>\n",
              "<style scoped>\n",
              "    .dataframe tbody tr th:only-of-type {\n",
              "        vertical-align: middle;\n",
              "    }\n",
              "\n",
              "    .dataframe tbody tr th {\n",
              "        vertical-align: top;\n",
              "    }\n",
              "\n",
              "    .dataframe thead th {\n",
              "        text-align: right;\n",
              "    }\n",
              "</style>\n",
              "<table border=\"1\" class=\"dataframe\">\n",
              "  <thead>\n",
              "    <tr style=\"text-align: right;\">\n",
              "      <th></th>\n",
              "      <th>user</th>\n",
              "      <th>interest type</th>\n",
              "      <th>interest</th>\n",
              "    </tr>\n",
              "  </thead>\n",
              "  <tbody>\n",
              "    <tr>\n",
              "      <th>0</th>\n",
              "      <td>dmrose15</td>\n",
              "      <td>Person</td>\n",
              "      <td>http://dbpedia.org/resource/William_B._Conway</td>\n",
              "    </tr>\n",
              "    <tr>\n",
              "      <th>1</th>\n",
              "      <td>dmrose15</td>\n",
              "      <td>Person</td>\n",
              "      <td>http://dbpedia.org/resource/Albert_Bustamante</td>\n",
              "    </tr>\n",
              "    <tr>\n",
              "      <th>2</th>\n",
              "      <td>_richard_ong_</td>\n",
              "      <td>Person</td>\n",
              "      <td>http://dbpedia.org/resource/Baxter_Edwards_Perry</td>\n",
              "    </tr>\n",
              "    <tr>\n",
              "      <th>3</th>\n",
              "      <td>_richard_ong_</td>\n",
              "      <td>Person</td>\n",
              "      <td>http://dbpedia.org/resource/William_Millar</td>\n",
              "    </tr>\n",
              "    <tr>\n",
              "      <th>4</th>\n",
              "      <td>blizthehusky</td>\n",
              "      <td>Person</td>\n",
              "      <td>http://dbpedia.org/resource/Mark_Buesgens</td>\n",
              "    </tr>\n",
              "  </tbody>\n",
              "</table>\n",
              "</div>\n",
              "      <button class=\"colab-df-convert\" onclick=\"convertToInteractive('df-396d2ca2-3715-453a-bdde-d584d2773d93')\"\n",
              "              title=\"Convert this dataframe to an interactive table.\"\n",
              "              style=\"display:none;\">\n",
              "        \n",
              "  <svg xmlns=\"http://www.w3.org/2000/svg\" height=\"24px\"viewBox=\"0 0 24 24\"\n",
              "       width=\"24px\">\n",
              "    <path d=\"M0 0h24v24H0V0z\" fill=\"none\"/>\n",
              "    <path d=\"M18.56 5.44l.94 2.06.94-2.06 2.06-.94-2.06-.94-.94-2.06-.94 2.06-2.06.94zm-11 1L8.5 8.5l.94-2.06 2.06-.94-2.06-.94L8.5 2.5l-.94 2.06-2.06.94zm10 10l.94 2.06.94-2.06 2.06-.94-2.06-.94-.94-2.06-.94 2.06-2.06.94z\"/><path d=\"M17.41 7.96l-1.37-1.37c-.4-.4-.92-.59-1.43-.59-.52 0-1.04.2-1.43.59L10.3 9.45l-7.72 7.72c-.78.78-.78 2.05 0 2.83L4 21.41c.39.39.9.59 1.41.59.51 0 1.02-.2 1.41-.59l7.78-7.78 2.81-2.81c.8-.78.8-2.07 0-2.86zM5.41 20L4 18.59l7.72-7.72 1.47 1.35L5.41 20z\"/>\n",
              "  </svg>\n",
              "      </button>\n",
              "      \n",
              "  <style>\n",
              "    .colab-df-container {\n",
              "      display:flex;\n",
              "      flex-wrap:wrap;\n",
              "      gap: 12px;\n",
              "    }\n",
              "\n",
              "    .colab-df-convert {\n",
              "      background-color: #E8F0FE;\n",
              "      border: none;\n",
              "      border-radius: 50%;\n",
              "      cursor: pointer;\n",
              "      display: none;\n",
              "      fill: #1967D2;\n",
              "      height: 32px;\n",
              "      padding: 0 0 0 0;\n",
              "      width: 32px;\n",
              "    }\n",
              "\n",
              "    .colab-df-convert:hover {\n",
              "      background-color: #E2EBFA;\n",
              "      box-shadow: 0px 1px 2px rgba(60, 64, 67, 0.3), 0px 1px 3px 1px rgba(60, 64, 67, 0.15);\n",
              "      fill: #174EA6;\n",
              "    }\n",
              "\n",
              "    [theme=dark] .colab-df-convert {\n",
              "      background-color: #3B4455;\n",
              "      fill: #D2E3FC;\n",
              "    }\n",
              "\n",
              "    [theme=dark] .colab-df-convert:hover {\n",
              "      background-color: #434B5C;\n",
              "      box-shadow: 0px 1px 3px 1px rgba(0, 0, 0, 0.15);\n",
              "      filter: drop-shadow(0px 1px 2px rgba(0, 0, 0, 0.3));\n",
              "      fill: #FFFFFF;\n",
              "    }\n",
              "  </style>\n",
              "\n",
              "      <script>\n",
              "        const buttonEl =\n",
              "          document.querySelector('#df-396d2ca2-3715-453a-bdde-d584d2773d93 button.colab-df-convert');\n",
              "        buttonEl.style.display =\n",
              "          google.colab.kernel.accessAllowed ? 'block' : 'none';\n",
              "\n",
              "        async function convertToInteractive(key) {\n",
              "          const element = document.querySelector('#df-396d2ca2-3715-453a-bdde-d584d2773d93');\n",
              "          const dataTable =\n",
              "            await google.colab.kernel.invokeFunction('convertToInteractive',\n",
              "                                                     [key], {});\n",
              "          if (!dataTable) return;\n",
              "\n",
              "          const docLinkHtml = 'Like what you see? Visit the ' +\n",
              "            '<a target=\"_blank\" href=https://colab.research.google.com/notebooks/data_table.ipynb>data table notebook</a>'\n",
              "            + ' to learn more about interactive tables.';\n",
              "          element.innerHTML = '';\n",
              "          dataTable['output_type'] = 'display_data';\n",
              "          await google.colab.output.renderOutput(dataTable, element);\n",
              "          const docLink = document.createElement('div');\n",
              "          docLink.innerHTML = docLinkHtml;\n",
              "          element.appendChild(docLink);\n",
              "        }\n",
              "      </script>\n",
              "    </div>\n",
              "  </div>\n",
              "  "
            ],
            "text/plain": [
              "            user  ...                                          interest\n",
              "0       dmrose15  ...     http://dbpedia.org/resource/William_B._Conway\n",
              "1       dmrose15  ...     http://dbpedia.org/resource/Albert_Bustamante\n",
              "2  _richard_ong_  ...  http://dbpedia.org/resource/Baxter_Edwards_Perry\n",
              "3  _richard_ong_  ...        http://dbpedia.org/resource/William_Millar\n",
              "4   blizthehusky  ...         http://dbpedia.org/resource/Mark_Buesgens\n",
              "\n",
              "[5 rows x 3 columns]"
            ]
          },
          "metadata": {},
          "execution_count": 26
        }
      ]
    },
    {
      "cell_type": "code",
      "source": [
        "new_ents.to_csv('new_entities.csv')"
      ],
      "metadata": {
        "id": "K1fY5xoxP3lW"
      },
      "execution_count": null,
      "outputs": []
    },
    {
      "cell_type": "code",
      "source": [
        "preds"
      ],
      "metadata": {
        "colab": {
          "base_uri": "https://localhost:8080/"
        },
        "id": "fr3sBNxQP3ox",
        "outputId": "0d5da4aa-21ce-4db4-f1db-a73abebe9210"
      },
      "execution_count": null,
      "outputs": [
        {
          "output_type": "execute_result",
          "data": {
            "text/plain": [
              "array([2, 2, 0, ..., 2, 2, 2])"
            ]
          },
          "metadata": {},
          "execution_count": 27
        }
      ]
    },
    {
      "cell_type": "code",
      "source": [
        "j = 0\n",
        "for tweet in tweets['TweetText'].values[0:3]:\n",
        "  tmp = []\n",
        "  index = yz_last.index(tweet)\n",
        "  if preds[index] == 2:\n",
        "    sampled_list = random.sample(repubs_filter, 1)\n",
        "    print(tweets['UserName'].values[j]+\"\\t\"+tweet+\"\\tnegative\")\n",
        "    print(tweets['UserName'].values[j]+\"\\tPerson\\t\"+sampled_list[0])\n",
        "\n",
        "  else:\n",
        "    sampled_list = random.sample(democs_filter, 1)\n",
        "    print(tweets['UserName'].values[j]+\"\\t\"+tweet+\"\\tpositive\")\n",
        "    print(tweets['UserName'].values[j]+\"\\tPerson\\t\"+sampled_list[0])\n",
        "\n",
        "  j=j+1\n"
      ],
      "metadata": {
        "colab": {
          "base_uri": "https://localhost:8080/"
        },
        "id": "oZ4mvAS6P3rm",
        "outputId": "1365fe51-db25-47ca-8b4d-7d60bb0e2f62"
      },
      "execution_count": null,
      "outputs": [
        {
          "output_type": "stream",
          "name": "stdout",
          "text": [
            "dmrose15\tto many are offended if you simply say yes or no . I have been cold because I ' dont sugar - coat anything '. Honor yes or no , if I am . Most time I do not respond until direct question . Good evening 1\tpositive\n",
            "dmrose15\tPerson\thttp://dbpedia.org/resource/Ken_Rothman\n",
            "_richard_ong_\tTrump . is truly up . How are going to parade around the idea that Alec kill , but not around the police who shot ?? But Kyle is a patriot ?? loser !! 1\tnegative\n",
            "_richard_ong_\tPerson\thttp://dbpedia.org/resource/C._W._Bishop\n",
            "blizthehusky\they why ' t Kyle in jail ? insider . Trump . is selling that say ' don ' t kill people , Alec people '... fired a prop gun on the \" Rust \" movie set last week , killing the cinematographer .\tnegative\n",
            "blizthehusky\tPerson\thttp://dbpedia.org/resource/Phelps_Anderson\n"
          ]
        }
      ]
    },
    {
      "cell_type": "code",
      "source": [
        ""
      ],
      "metadata": {
        "id": "LQmn8WsuP3vN"
      },
      "execution_count": null,
      "outputs": []
    },
    {
      "cell_type": "code",
      "source": [
        ""
      ],
      "metadata": {
        "id": "BY-DchKEP3x_"
      },
      "execution_count": null,
      "outputs": []
    }
  ]
}